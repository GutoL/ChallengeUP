{
  "nbformat": 4,
  "nbformat_minor": 0,
  "metadata": {
    "colab": {
      "name": "Copy_of_f1_score_challenge (1).ipynb",
      "version": "0.3.2",
      "provenance": [],
      "collapsed_sections": []
    },
    "kernelspec": {
      "name": "python3",
      "display_name": "Python 3"
    },
    "accelerator": "GPU"
  },
  "cells": [
    {
      "cell_type": "code",
      "metadata": {
        "id": "aU6WeCZ0J2lH",
        "colab_type": "code",
        "colab": {}
      },
      "source": [
        "import pandas as pd\n",
        "import numpy as np\n",
        "from scipy import stats\n",
        "\n",
        "path = 'Data/' #add the path of your data"
      ],
      "execution_count": 0,
      "outputs": []
    },
    {
      "cell_type": "code",
      "metadata": {
        "id": "QVpBqAplDgLd",
        "colab_type": "code",
        "cellView": "both",
        "colab": {}
      },
      "source": [
        "#@title reading from drive (if you are using google collaboratory)\n",
        "from google.colab import drive \n",
        "drive.mount('/content/gdrive')\n",
        "\n",
        "path = 'gdrive/My Drive/challenge-up/'"
      ],
      "execution_count": 0,
      "outputs": []
    },
    {
      "cell_type": "markdown",
      "metadata": {
        "id": "zsgnNupOOkYv",
        "colab_type": "text"
      },
      "source": [
        "# Complete Base"
      ]
    },
    {
      "cell_type": "code",
      "metadata": {
        "id": "aPsK5Hb-Ojso",
        "colab_type": "code",
        "colab": {}
      },
      "source": [
        "complete_base = pd.read_csv(path + 'CompleteDataSet.csv', header=[0])"
      ],
      "execution_count": 0,
      "outputs": []
    },
    {
      "cell_type": "code",
      "metadata": {
        "id": "Ie7lJXMyKMdF",
        "colab_type": "code",
        "colab": {}
      },
      "source": [
        "complete_base = complete_base.loc[1:, ['TimeStamps','Subject','Activity','Trial','Tag']]"
      ],
      "execution_count": 0,
      "outputs": []
    },
    {
      "cell_type": "code",
      "metadata": {
        "id": "y7kKRvxcLKgo",
        "colab_type": "code",
        "colab": {}
      },
      "source": [
        "[ x for x in complete_base.duplicated('TimeStamps') if x is True ]"
      ],
      "execution_count": 0,
      "outputs": []
    },
    {
      "cell_type": "code",
      "metadata": {
        "id": "a7kUy8UCSNSZ",
        "colab_type": "code",
        "colab": {}
      },
      "source": [
        "complete_base.dtypes"
      ],
      "execution_count": 0,
      "outputs": []
    },
    {
      "cell_type": "code",
      "metadata": {
        "id": "mKScY_M3Srlt",
        "colab_type": "code",
        "colab": {}
      },
      "source": [
        "complete_base.TimeStamps = pd.to_datetime(complete_base.TimeStamps)\n",
        "complete_base.Subject = pd.to_numeric(complete_base.Subject, downcast='integer')\n",
        "complete_base.Activity = pd.to_numeric(complete_base.Activity, downcast='integer')\n",
        "complete_base.Trial = pd.to_numeric(complete_base.Trial, downcast='integer')\n",
        "complete_base.Tag = pd.to_numeric(complete_base.Tag, downcast='integer')"
      ],
      "execution_count": 0,
      "outputs": []
    },
    {
      "cell_type": "code",
      "metadata": {
        "id": "f8ybjvnecghg",
        "colab_type": "code",
        "colab": {}
      },
      "source": [
        "complete_base.dtypes"
      ],
      "execution_count": 0,
      "outputs": []
    },
    {
      "cell_type": "markdown",
      "metadata": {
        "id": "9cYT7i6OOdgU",
        "colab_type": "text"
      },
      "source": [
        "# Test base"
      ]
    },
    {
      "cell_type": "code",
      "metadata": {
        "id": "-rPpTmRnLW3h",
        "colab_type": "code",
        "colab": {}
      },
      "source": [
        "base_test = pd.read_csv(path + 'CompleteDataSet_testing_competition.csv', header=[0])"
      ],
      "execution_count": 0,
      "outputs": []
    },
    {
      "cell_type": "code",
      "metadata": {
        "id": "YbasYwY0OTf0",
        "colab_type": "code",
        "colab": {}
      },
      "source": [
        "base_test = base_test.loc[1:, ['TimeStamps']]"
      ],
      "execution_count": 0,
      "outputs": []
    },
    {
      "cell_type": "code",
      "metadata": {
        "id": "j5zxAfxVOzjG",
        "colab_type": "code",
        "colab": {}
      },
      "source": [
        "[ x for x in base_test.duplicated('TimeStamps') if x is True ]"
      ],
      "execution_count": 0,
      "outputs": []
    },
    {
      "cell_type": "code",
      "metadata": {
        "id": "M8YekdIqSJB9",
        "colab_type": "code",
        "colab": {}
      },
      "source": [
        "base_test.dtypes"
      ],
      "execution_count": 0,
      "outputs": []
    },
    {
      "cell_type": "code",
      "metadata": {
        "id": "_K5dZkDFT1pj",
        "colab_type": "code",
        "colab": {}
      },
      "source": [
        "base_test['TimeStamps'] = pd.to_datetime(base_test.TimeStamps)"
      ],
      "execution_count": 0,
      "outputs": []
    },
    {
      "cell_type": "code",
      "metadata": {
        "id": "EaUxFffucw07",
        "colab_type": "code",
        "colab": {}
      },
      "source": [
        "base_test.dtypes"
      ],
      "execution_count": 0,
      "outputs": []
    },
    {
      "cell_type": "markdown",
      "metadata": {
        "id": "BHWKOis_PAL8",
        "colab_type": "text"
      },
      "source": [
        "# Bases join"
      ]
    },
    {
      "cell_type": "code",
      "metadata": {
        "id": "2mrjhLtPPGc_",
        "colab_type": "code",
        "colab": {}
      },
      "source": [
        "join_base = base_test.merge(complete_base, on='TimeStamps')"
      ],
      "execution_count": 0,
      "outputs": []
    },
    {
      "cell_type": "code",
      "metadata": {
        "id": "rCCOYmFiPaL3",
        "colab_type": "code",
        "colab": {}
      },
      "source": [
        "join_base['Subject'].unique()"
      ],
      "execution_count": 0,
      "outputs": []
    },
    {
      "cell_type": "code",
      "metadata": {
        "id": "zHiDAwTDUhSb",
        "colab_type": "code",
        "colab": {}
      },
      "source": [
        "join_base.TimeStamps = join_base.TimeStamps.apply(lambda x: x.replace(microsecond=0))"
      ],
      "execution_count": 0,
      "outputs": []
    },
    {
      "cell_type": "code",
      "metadata": {
        "id": "BDxppXYUWGem",
        "colab_type": "code",
        "colab": {}
      },
      "source": [
        "join_base = join_base.loc[:, ['TimeStamps', 'Tag']]"
      ],
      "execution_count": 0,
      "outputs": []
    },
    {
      "cell_type": "code",
      "metadata": {
        "id": "JoZIzqZFc354",
        "colab_type": "code",
        "colab": {}
      },
      "source": [
        "join_base.dtypes"
      ],
      "execution_count": 0,
      "outputs": []
    },
    {
      "cell_type": "code",
      "metadata": {
        "id": "0w8_1KoKWUON",
        "colab_type": "code",
        "colab": {}
      },
      "source": [
        "join_base = join_base.groupby(by='TimeStamps', as_index=False)['Tag'].agg(pd.Series.mode, )"
      ],
      "execution_count": 0,
      "outputs": []
    },
    {
      "cell_type": "code",
      "metadata": {
        "id": "HzX1I-Ngb5Dx",
        "colab_type": "code",
        "colab": {}
      },
      "source": [
        "join_base.dtypes"
      ],
      "execution_count": 0,
      "outputs": []
    },
    {
      "cell_type": "code",
      "metadata": {
        "id": "KS76OTI9cPHa",
        "colab_type": "code",
        "colab": {}
      },
      "source": [
        "join_base['IsArray'] = join_base.Tag.apply(lambda x: isinstance(x,(list,pd.core.series.Series,np.ndarray)))"
      ],
      "execution_count": 0,
      "outputs": []
    },
    {
      "cell_type": "code",
      "metadata": {
        "id": "mP0xWia8kpnx",
        "colab_type": "code",
        "colab": {}
      },
      "source": [
        "join_base = join_base.loc[join_base.IsArray == False].loc[:, ['TimeStamps','Tag']]"
      ],
      "execution_count": 0,
      "outputs": []
    },
    {
      "cell_type": "code",
      "metadata": {
        "id": "4S4zefVEnpyx",
        "colab_type": "code",
        "colab": {}
      },
      "source": [
        "join_base.Tag = pd.to_numeric(join_base.Tag, downcast='integer')"
      ],
      "execution_count": 0,
      "outputs": []
    },
    {
      "cell_type": "markdown",
      "metadata": {
        "id": "4YG--kghY_qo",
        "colab_type": "text"
      },
      "source": [
        "# Submission base"
      ]
    },
    {
      "cell_type": "code",
      "metadata": {
        "id": "mda9e4BBXp-o",
        "colab_type": "code",
        "colab": {}
      },
      "source": [
        "submission_base = pd.read_csv(path + 'test-results.csv', header=[0])"
      ],
      "execution_count": 0,
      "outputs": []
    },
    {
      "cell_type": "code",
      "metadata": {
        "id": "shXxENplZQ3N",
        "colab_type": "code",
        "colab": {}
      },
      "source": [
        "submission_base.dtypes"
      ],
      "execution_count": 0,
      "outputs": []
    },
    {
      "cell_type": "code",
      "metadata": {
        "id": "pXmHrb1NoVxA",
        "colab_type": "code",
        "colab": {}
      },
      "source": [
        "submission_base['timestamp'] = pd.to_datetime(submission_base.timestamp, dayfirst=True)"
      ],
      "execution_count": 0,
      "outputs": []
    },
    {
      "cell_type": "code",
      "metadata": {
        "id": "g-ghJbYRqvQE",
        "colab_type": "code",
        "colab": {}
      },
      "source": [
        "submission_base = submission_base.rename({'timestamp': 'TimeStamps', 'class': 'Predicted'}, axis='columns')"
      ],
      "execution_count": 0,
      "outputs": []
    },
    {
      "cell_type": "markdown",
      "metadata": {
        "id": "ceaIahb0pdr7",
        "colab_type": "text"
      },
      "source": [
        "# Joining test and predicted"
      ]
    },
    {
      "cell_type": "code",
      "metadata": {
        "id": "IUjTcyphrbCB",
        "colab_type": "code",
        "colab": {}
      },
      "source": [
        "submission_base.dtypes"
      ],
      "execution_count": 0,
      "outputs": []
    },
    {
      "cell_type": "code",
      "metadata": {
        "id": "Bw0ff6JHpVUI",
        "colab_type": "code",
        "colab": {}
      },
      "source": [
        "result_base = join_base.merge(submission_base, on='TimeStamps')"
      ],
      "execution_count": 0,
      "outputs": []
    },
    {
      "cell_type": "code",
      "metadata": {
        "id": "2eDOjgc5u8z0",
        "colab_type": "code",
        "colab": {}
      },
      "source": [
        "result_base.shape"
      ],
      "execution_count": 0,
      "outputs": []
    },
    {
      "cell_type": "code",
      "metadata": {
        "id": "e-yN4k6cvGhf",
        "colab_type": "code",
        "colab": {}
      },
      "source": [
        "result_base.dtypes"
      ],
      "execution_count": 0,
      "outputs": []
    },
    {
      "cell_type": "markdown",
      "metadata": {
        "id": "P6hzKZtSZj9V",
        "colab_type": "text"
      },
      "source": [
        "# Verifying Score"
      ]
    },
    {
      "cell_type": "code",
      "metadata": {
        "id": "6hQza5r2Z61_",
        "colab_type": "code",
        "colab": {}
      },
      "source": [
        "from sklearn.metrics import confusion_matrix\n",
        "\n",
        "y_test_category=result_base.Tag.values\n",
        "y_test_predict_category=result_base.Predicted.values\n",
        "\n",
        "labels=[1,2,3,4,5,6,7,8,9,10,11,20]\n",
        "\n",
        "cnf_matrix2 = confusion_matrix(y_test_category, y_test_predict_category)\n",
        "confusion_ma2 = pd.DataFrame(cnf_matrix2, columns=labels, index=labels)\n",
        "\n",
        "metrics_table = pd.DataFrame(np.zeros((len(labels),8), dtype='int'), index=labels, \n",
        "                             columns=['tp', 'tn', 'fp', 'fn', 'precision', 'recall/sensitivity', 'specificity', 'f1-score'])\n",
        "\n",
        "for i in range(len(labels)):\n",
        "  metrics_table.iloc[i, 0] = cnf_matrix2[i,i]\n",
        "  metrics_table.iloc[i, 1] = cnf_matrix2.diagonal().sum() - metrics_table.iloc[i, 0]\n",
        "  metrics_table.iloc[i, 2] = cnf_matrix2[:,i].sum() - metrics_table.iloc[i, 0]\n",
        "  metrics_table.iloc[i, 3] = cnf_matrix2[i,:].sum() - metrics_table.iloc[i, 0]\n",
        "  \n",
        "  metrics_table.iloc[i, 4] = metrics_table.iloc[i, 0] / (metrics_table.iloc[i, 0] + metrics_table.iloc[i, 2])\n",
        "  metrics_table.iloc[i, 5] = metrics_table.iloc[i, 0] / (metrics_table.iloc[i, 0] + metrics_table.iloc[i, 3])\n",
        "  metrics_table.iloc[i, 6] = metrics_table.iloc[i, 1] / (metrics_table.iloc[i, 1] + metrics_table.iloc[i, 2])\n",
        "  metrics_table.iloc[i, 7] = 2*metrics_table.iloc[i, 0] / (2*metrics_table.iloc[i, 0] + metrics_table.iloc[i, 2] + metrics_table.iloc[i, 3])\n",
        "\n",
        "\n",
        "u_precision = metrics_table.iloc[:, 4].mean()\n",
        "u_recall = metrics_table.iloc[:, 5].mean()\n",
        "  \n",
        "metrics_table.loc[99] = [\n",
        "    None,\n",
        "    None,\n",
        "    None,\n",
        "    None,\n",
        "    u_precision,\n",
        "    u_recall,\n",
        "    metrics_table.iloc[:, 6].mean(),\n",
        "    2*((u_precision * u_recall) / (u_precision + u_recall))\n",
        "]\n",
        "\n",
        "\n",
        "metrics_table"
      ],
      "execution_count": 0,
      "outputs": []
    },
    {
      "cell_type": "code",
      "metadata": {
        "id": "6UzouvOEv006",
        "colab_type": "code",
        "colab": {}
      },
      "source": [
        "confusion_ma2"
      ],
      "execution_count": 0,
      "outputs": []
    },
    {
      "cell_type": "code",
      "metadata": {
        "id": "4AUS_suwbrCh",
        "colab_type": "code",
        "colab": {}
      },
      "source": [
        "from sklearn.metrics import accuracy_score\n",
        "\n",
        "print(accuracy_score(y_test_category, y_test_predict_category))"
      ],
      "execution_count": 0,
      "outputs": []
    },
    {
      "cell_type": "code",
      "metadata": {
        "id": "uZevrjInzAdl",
        "colab_type": "code",
        "colab": {}
      },
      "source": [
        "average_precision = metrics_table['precision'].mean()\n",
        "average_precision"
      ],
      "execution_count": 0,
      "outputs": []
    },
    {
      "cell_type": "code",
      "metadata": {
        "id": "lS9h_MaJzBgo",
        "colab_type": "code",
        "colab": {}
      },
      "source": [
        "average_recall = metrics_table['recall/sensitivity'].mean()\n",
        "average_recall"
      ],
      "execution_count": 0,
      "outputs": []
    },
    {
      "cell_type": "code",
      "metadata": {
        "id": "7HwL48zlzDpC",
        "colab_type": "code",
        "colab": {}
      },
      "source": [
        "global_f1 = 2*((average_precision * average_recall) / (average_precision + average_recall))\n",
        "global_f1"
      ],
      "execution_count": 0,
      "outputs": []
    },
    {
      "cell_type": "code",
      "metadata": {
        "id": "GPH4RkJBvtA6",
        "colab_type": "code",
        "colab": {}
      },
      "source": [
        "import matplotlib.pyplot as plt\n",
        "from sklearn.utils.multiclass import unique_labels\n",
        "\n",
        "plt.rcParams['figure.figsize'] = [15, 10]\n",
        "plt.rcParams['figure.dpi'] = 150\n",
        "\n",
        "def plot_confusion_matrix(y_true, y_pred, classes,\n",
        "                          normalize=False,\n",
        "                          title=None,\n",
        "                          cmap=plt.cm.Blues):\n",
        "    \"\"\"\n",
        "    This function prints and plots the confusion matrix.\n",
        "    Normalization can be applied by setting `normalize=True`.\n",
        "    \"\"\"\n",
        "    if not title:\n",
        "        if normalize:\n",
        "            title = 'Normalized confusion matrix'\n",
        "        else:\n",
        "            title = 'Confusion matrix, without normalization'\n",
        "\n",
        "    # Compute confusion matrix\n",
        "    cm = confusion_matrix(y_true, y_pred)\n",
        "    # Only use the labels that appear in the data\n",
        "    #classes = classes[unique_labels(y_true, y_pred)]\n",
        "    if normalize:\n",
        "        cm = cm.astype('float') / cm.sum(axis=1)[:, np.newaxis]\n",
        "        print(\"Normalized confusion matrix\")\n",
        "    else:\n",
        "        print('Confusion matrix, without normalization')\n",
        "\n",
        "    print(cm)\n",
        "\n",
        "    fig, ax = plt.subplots()\n",
        "    im = ax.imshow(cm, interpolation='nearest', cmap=cmap)\n",
        "    ax.figure.colorbar(im, ax=ax)\n",
        "    # We want to show all ticks...\n",
        "    ax.set(xticks=np.arange(cm.shape[1]),\n",
        "           yticks=np.arange(cm.shape[0]),\n",
        "           # ... and label them with the respective list entries\n",
        "           xticklabels=classes, yticklabels=classes,\n",
        "           title=title,\n",
        "           ylabel='True label',\n",
        "           xlabel='Predicted label')\n",
        "\n",
        "    # Rotate the tick labels and set their alignment.\n",
        "    plt.setp(ax.get_xticklabels(), rotation=45, ha=\"right\",\n",
        "             rotation_mode=\"anchor\")\n",
        "\n",
        "    # Loop over data dimensions and create text annotations.\n",
        "    fmt = '.2f' if normalize else 'd'\n",
        "    thresh = cm.max() / 2.\n",
        "    for i in range(cm.shape[0]):\n",
        "        for j in range(cm.shape[1]):\n",
        "            ax.text(j, i, format(cm[i, j], fmt),\n",
        "                    ha=\"center\", va=\"center\",\n",
        "                    color=\"white\" if cm[i, j] > thresh else \"black\")\n",
        "    fig.tight_layout()\n",
        "    return ax\n",
        "\n",
        "  \n",
        "print (y_test_category)\n",
        "print(y_test_predict_category)\n",
        "class_names = ['fHand','fKne','fBak','fSitCh','fSid','wak','stand','sit','pick',\n",
        "          'jump','ly','kne']\n",
        "class_names = [1,2,3,4,5,6,7,8,9,10,11,20]\n",
        "# Plot non-normalized confusion matrix\n",
        "plot_confusion_matrix(y_test_category, y_test_predict_category, classes=class_names,\n",
        "                      title='')"
      ],
      "execution_count": 0,
      "outputs": []
    }
  ]
}